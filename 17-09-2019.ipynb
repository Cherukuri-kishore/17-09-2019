{
 "cells": [
  {
   "cell_type": "markdown",
   "metadata": {},
   "source": [
    "# Task 1\n",
    "## print numbers from 1 to 10 using for loop"
   ]
  },
  {
   "cell_type": "code",
   "execution_count": 15,
   "metadata": {},
   "outputs": [
    {
     "name": "stdout",
     "output_type": "stream",
     "text": [
      "1 3 5 7 9 "
     ]
    }
   ],
   "source": [
    "for i in range (1,10,2):\n",
    "    print(i,end=' ')"
   ]
  },
  {
   "cell_type": "markdown",
   "metadata": {},
   "source": [
    "# Task 2\n",
    "## iterate the integers from 1 to 50,\n",
    "## for multiples of 3 print \"fizz\"\n",
    "## for multiples of 5 print \"buzz\"\n",
    "## for multiples of 3 and 5 print\"fizzbuzz\""
   ]
  },
  {
   "cell_type": "code",
   "execution_count": 16,
   "metadata": {},
   "outputs": [
    {
     "name": "stdout",
     "output_type": "stream",
     "text": [
      "3 -Fizz\n",
      "5 -Buzz\n",
      "6 -Fizz\n",
      "9 -Fizz\n",
      "10 -Buzz\n",
      "12 -Fizz\n",
      "15 -FizzBuzz\n",
      "18 -Fizz\n",
      "20 -Buzz\n",
      "21 -Fizz\n",
      "24 -Fizz\n",
      "25 -Buzz\n",
      "27 -Fizz\n",
      "30 -FizzBuzz\n",
      "33 -Fizz\n",
      "35 -Buzz\n",
      "36 -Fizz\n",
      "39 -Fizz\n",
      "40 -Buzz\n",
      "42 -Fizz\n",
      "45 -FizzBuzz\n",
      "48 -Fizz\n",
      "50 -Buzz\n"
     ]
    }
   ],
   "source": [
    "for i in range (1,51):\n",
    "    if(i%3==0):\n",
    "        if i%5==0:\n",
    "            print(i,\"-FizzBuzz\")\n",
    "        else:\n",
    "            print(i,\"-Fizz\")\n",
    "    elif(i%5==0):\n",
    "        print(i,\"-Buzz\")"
   ]
  },
  {
   "cell_type": "markdown",
   "metadata": {},
   "source": [
    "# Task 3\n",
    "### Program to print the multiplication table from range between 10 to 20  .(Ex: 3 x 10 = 30….)"
   ]
  },
  {
   "cell_type": "code",
   "execution_count": 18,
   "metadata": {},
   "outputs": [
    {
     "name": "stdout",
     "output_type": "stream",
     "text": [
      "enter a number  3\n",
      "3 X 10 = 30\n",
      "3 X 11 = 33\n",
      "3 X 12 = 36\n",
      "3 X 13 = 39\n",
      "3 X 14 = 42\n",
      "3 X 15 = 45\n",
      "3 X 16 = 48\n",
      "3 X 17 = 51\n",
      "3 X 18 = 54\n",
      "3 X 19 = 57\n",
      "3 X 20 = 60\n"
     ]
    }
   ],
   "source": [
    "n=int(input(\"enter a number  \"))\n",
    "for i in range(10,21):\n",
    "    print(n,\"X\",i,\"=\",i*n)"
   ]
  },
  {
   "cell_type": "markdown",
   "metadata": {},
   "source": [
    "# Task 4\n",
    "## Python Program to Check if a Number is Positive, Negative or 0"
   ]
  },
  {
   "cell_type": "code",
   "execution_count": 19,
   "metadata": {},
   "outputs": [
    {
     "name": "stdout",
     "output_type": "stream",
     "text": [
      "Enter a number  -1\n",
      "NEGETIVE\n"
     ]
    }
   ],
   "source": [
    "n=int(input(\"Enter a number  \"))\n",
    "if n==0:\n",
    "    print(\"ZERO\")\n",
    "elif n<0:\n",
    "    print(\"NEGETIVE\")\n",
    "else:\n",
    "    print(\"POSITIVE\")"
   ]
  },
  {
   "cell_type": "markdown",
   "metadata": {},
   "source": [
    "# Task 5\n",
    "## Python Program to Print the Fibonacci sequence"
   ]
  },
  {
   "cell_type": "code",
   "execution_count": 30,
   "metadata": {},
   "outputs": [
    {
     "name": "stdout",
     "output_type": "stream",
     "text": [
      "enter a number10\n",
      "0 1 1 2 3 5 8 13 21 34 "
     ]
    }
   ],
   "source": [
    "n=int(input(\"enter a number\"))\n",
    "a=0\n",
    "b=1\n",
    "for i in range(1,n+1):\n",
    "    print(a,end=\" \")\n",
    "    c=a+b\n",
    "    a=b\n",
    "    b=c\n",
    "   "
   ]
  },
  {
   "cell_type": "code",
   "execution_count": null,
   "metadata": {},
   "outputs": [],
   "source": []
  }
 ],
 "metadata": {
  "kernelspec": {
   "display_name": "Python 3",
   "language": "python",
   "name": "python3"
  },
  "language_info": {
   "codemirror_mode": {
    "name": "ipython",
    "version": 3
   },
   "file_extension": ".py",
   "mimetype": "text/x-python",
   "name": "python",
   "nbconvert_exporter": "python",
   "pygments_lexer": "ipython3",
   "version": "3.7.3"
  }
 },
 "nbformat": 4,
 "nbformat_minor": 2
}
